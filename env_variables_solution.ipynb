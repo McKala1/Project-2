{
 "cells": [
  {
   "cell_type": "markdown",
   "metadata": {},
   "source": [
    "### Instructor Demo: Environment Variables"
   ]
  },
  {
   "cell_type": "code",
   "execution_count": 3,
   "metadata": {},
   "outputs": [],
   "source": [
    "# Import dotenv package for setting environment variables \n",
    "# from dotenv import load_dotenv\n",
    "\n",
    "# # Import os package\n",
    "# import os"
   ]
  },
  {
   "cell_type": "code",
   "execution_count": 4,
   "metadata": {
    "scrolled": true
   },
   "outputs": [],
   "source": [
    "# # Set environment variables from the .env in the local environment\n",
    "# load_dotenv()"
   ]
  },
  {
   "cell_type": "code",
   "execution_count": 5,
   "metadata": {},
   "outputs": [],
   "source": [
    "# # Retrieve API key and store as Python variable\n",
    "# api_key = os.getenv(\"TMDB_API_KEY\")\n",
    "# type(api_key)"
   ]
  },
  {
   "cell_type": "code",
   "execution_count": 6,
   "metadata": {},
   "outputs": [],
   "source": [
    "# # Test the API key with a request\n",
    "# import requests\n",
    "# import json"
   ]
  },
  {
   "cell_type": "code",
   "execution_count": 7,
   "metadata": {},
   "outputs": [],
   "source": [
    "# Search The Movie Database for a movie title\n",
    "# Documentation: https://developer.themoviedb.org/docs/search-and-query-for-details\n",
    "# query_url = \"https://api.themoviedb.org/3/search/movie?query=\"\n",
    "\n",
    "\n",
    "\n",
    "\n",
    "#EXAMPLE\n",
    "# title = \"Everything Everywhere All at Once\"\n",
    "\n",
    "# Execute \"GET\" request with url\n",
    "# response_data = requests.get(query_url + title + \"&api_key=\" + api_key)"
   ]
  },
  {
   "cell_type": "code",
   "execution_count": null,
   "metadata": {},
   "outputs": [],
   "source": []
  },
  {
   "cell_type": "code",
   "execution_count": null,
   "metadata": {},
   "outputs": [],
   "source": []
  }
 ],
 "metadata": {
  "kernelspec": {
   "display_name": "Python 3 (ipykernel)",
   "language": "python",
   "name": "python3"
  },
  "language_info": {
   "codemirror_mode": {
    "name": "ipython",
    "version": 3
   },
   "file_extension": ".py",
   "mimetype": "text/x-python",
   "name": "python",
   "nbconvert_exporter": "python",
   "pygments_lexer": "ipython3",
   "version": "3.11.7"
  },
  "nteract": {
   "version": "0.28.0"
  }
 },
 "nbformat": 4,
 "nbformat_minor": 4
}
